{
 "cells": [
  {
   "cell_type": "markdown",
   "metadata": {},
   "source": [
    "Sample code for problem 7 -- first, use kplr to read in the data"
   ]
  },
  {
   "cell_type": "code",
   "execution_count": 1,
   "metadata": {},
   "outputs": [
    {
     "name": "stderr",
     "output_type": "stream",
     "text": [
      "/usr/local/lib/python3.4/dist-packages/pyfits/__init__.py:22: PyFITSDeprecationWarning: PyFITS is deprecated, please use astropy.io.fits\n",
      "  PyFITSDeprecationWarning)  # noqa\n"
     ]
    }
   ],
   "source": [
    "import kplr\n",
    "import math\n",
    "import matplotlib.pyplot as plt\n",
    "import numpy as np\n",
    "import scipy.integrate\n",
    "\n",
    "# Find the target KOI.\n",
    "client = kplr.API()\n",
    "koi = client.koi(97.01)\n",
    "\n",
    "# Get a list of light curve datasets.\n",
    "lcs = koi.get_light_curves(short_cadence=False)\n",
    "\n",
    "# Open the first dataset and read it\n",
    "f = lcs[0].open()\n",
    "hdu_data = f[1].data\n",
    "f.close()"
   ]
  },
  {
   "cell_type": "markdown",
   "metadata": {},
   "source": [
    "Next, import my_transit helper function and define func1 and func2, which are the two functions to be integrated to compute the flux theory curve (which is the ratio of the integral(func1)/integral(func2))."
   ]
  },
  {
   "cell_type": "code",
   "execution_count": 2,
   "metadata": {},
   "outputs": [],
   "source": [
    "import my_transit\n",
    "\n",
    "def I(r):\n",
    "    '''A Limb-darkening function'''\n",
    "    mu = (1 - (r**2))**(0.5)\n",
    "    return 1 - (1 - (mu**(0.5)))\n",
    "\n",
    "def func1(r, p, z):\n",
    "    return I(r) * (1 - my_transit.delta(p,r,abs(z))) * 2 * r\n",
    "\n",
    "def func2(r, p, z):\n",
    "    return I(r) * 2 * r"
   ]
  },
  {
   "cell_type": "code",
   "execution_count": 3,
   "metadata": {},
   "outputs": [
    {
     "name": "stdout",
     "output_type": "stream",
     "text": [
      "Problem 1\n",
      "\n",
      "Chi squared (initial parameters): 465.1986924205623 \n",
      "\n",
      "Problem 2\n",
      "\n",
      "According to this online calculator - http://www.socscistatistics.com/pvalues/chidistribution.aspx-    The p-value is less than 0.00001. This means the chosen parameters are naive and the model is not a good fit.\n"
     ]
    },
    {
     "data": {
      "image/png": "[encoded data removed]",
      "text/plain": [
       "<matplotlib.figure.Figure at 0x7f7efdcc4908>"
      ]
     },
     "metadata": {},
     "output_type": "display_data"
    },
    {
     "name": "stdout",
     "output_type": "stream",
     "text": [
      "\n",
      "Problem 3\n",
      "\n",
      "Best Fit T value:  0.1\n",
      "Best Fit Chi-squared:  465.1986924205623\n",
      "Nothing new to plot\n",
      "\n",
      "Problem 4\n",
      "\n",
      "Best Fit Parameters\n",
      "T:   0.1\n",
      "t0:  124.51\n",
      "p:   0.0775\n",
      "Best Fit Chi-squared:  465.1986924205623\n"
     ]
    }
   ],
   "source": [
    "def get_data():\n",
    "    #For this code I looked at the PSET 3 solutions.\n",
    "    time = hdu_data[\"time\"]\n",
    "    flux = hdu_data[\"sap_flux\"]\n",
    "    error = hdu_data[\"sap_flux_err\"]\n",
    "    \n",
    "    index = np.where((time > 124) & (time < 125))\n",
    "    \n",
    "    time_obs = time[index]\n",
    "    flux_obs = flux[index]\n",
    "    error_obs = error[index]\n",
    "    \n",
    "    return time_obs, flux_obs, error_obs\n",
    "\n",
    "\n",
    "def normalize_data(flux):\n",
    "        \n",
    "        flux_new = flux\n",
    "        i = 0\n",
    "        while i < 5:\n",
    "            cutoff = np.absolute(flux_new - np.average(flux_new)) / np.std(flux_new)\n",
    "            flux_new = flux_new[np.where(cutoff <= 2)]\n",
    "            i += 1\n",
    "        return np.average(flux_new)\n",
    "\n",
    "\n",
    "def modeled_flux(time, t0, T, p):\n",
    "    #For this function I use some code from the PSET 3 solutions\n",
    "    #Convert from time to z given the formula in the problem set\n",
    "    z = (time-t0)/T\n",
    "    flux_predicted = []\n",
    "    for zval in z:\n",
    "        obscured, _ = scipy.integrate.quad(func1, 0.0, 1.0, args=(p,zval))\n",
    "        unobscured, _ = scipy.integrate.quad(func2, 0.0, 1.0, args=(p,zval))\n",
    "        flux_predicted.append(obscured/unobscured)\n",
    "   \n",
    "    return flux_predicted\n",
    "\n",
    "\n",
    "def X_sq(flux_obs, err_obs, flux_predicted):\n",
    "    #need to convert flux_predicted to np.array\n",
    "    chi_sq = np.sum(((flux_obs - flux_predicted)/err_obs)**2)\n",
    "    return chi_sq\n",
    "\n",
    "def main():\n",
    "    \n",
    "    p = 0.0775\n",
    "    T = 0.1\n",
    "    t0 = 124.51\n",
    "    \n",
    "    time_obs, flux_obs, error_obs = get_data()\n",
    "    \n",
    "    #normalize\n",
    "    flux_norm = normalize_data(flux_obs)\n",
    "    flux_obs_norm = flux_obs/flux_norm\n",
    "    err_obs_norm = error_obs/flux_norm\n",
    "    \n",
    "    #calculate X squared\n",
    "    flux_predicted = modeled_flux(time_obs, t0, T, p)\n",
    "    X_val = X_sq(flux_obs_norm, err_obs_norm, flux_predicted)\n",
    "    \n",
    "    print(\"Problem 1\\n\")\n",
    "    print(\"Chi squared (initial parameters):\", str(X_val), \"\\n\")                      \n",
    "    \n",
    "    print(\"Problem 2\\n\")\n",
    "    print(\"According to this online calculator - http://www.socscistatistics.com/pvalues/chidistribution.aspx-\\\n",
    "    The p-value is less than 0.00001. This means the chosen parameters are naive and the model is not a good fit.\")\n",
    "    \n",
    "    plt.plot(time_obs, flux_predicted)\n",
    "    plt.plot(time_obs, flux_obs_norm, color='red')\n",
    "    plt.ylabel(\"Flux\")\n",
    "    plt.xlabel(\"Time (UTC)\")\n",
    "    plt.show()\n",
    "    \n",
    "    print(\"\\nProblem 3\\n\")\n",
    "    \n",
    "    #Vary T over .08 and .13\n",
    "    X_min = X_val\n",
    "    T_best = T\n",
    "    for i in np.arange(.08, .13, .01):\n",
    "        flux_predicted = modeled_flux(time_obs, t0, i, p)\n",
    "        X = X_sq(flux_obs_norm, err_obs_norm, flux_predicted)\n",
    "        if X < X_min:\n",
    "            T_best = i\n",
    "            X_min = X\n",
    "            \n",
    "    print(\"Best Fit T value: \", T_best)\n",
    "    print(\"Best Fit Chi-squared: \", X_min)\n",
    "    print(\"Nothing new to plot\")\n",
    "    \n",
    "    print(\"\\nProblem 4\\n\")\n",
    "    \n",
    "    X_min = X_val\n",
    "    params_best = [0.1, 124.51, 0.0775]\n",
    "    \n",
    "    for T_ in np.arange(.08, .13, .01):\n",
    "        for p_ in np.arange(0.0665, 0.0885, 0.005):\n",
    "            for t0_ in np.arange(124.0, 125.0, 0.1):\n",
    "                flux_predicted = modeled_flux(time_obs, t0_, T_, p_)\n",
    "                X = X_sq(flux_obs_norm, err_obs_norm, flux_predicted)\n",
    "                if X_val < X_min:\n",
    "                    print(X_min)\n",
    "                    print(X)\n",
    "                    params_best = [T_, t0_, p_]\n",
    "                    X_min = X\n",
    "            \n",
    "    print(\"Best Fit Parameters\")\n",
    "    print(\"T:  \", params_best[0])\n",
    "    print(\"t0: \", params_best[1])\n",
    "    print(\"p:  \", params_best[2])\n",
    "    print(\"Best Fit Chi-squared: \", X_min)\n",
    "    \n",
    "    \n",
    "main()"
   ]
  },
  {
   "cell_type": "code",
   "execution_count": null,
   "metadata": {},
   "outputs": [],
   "source": []
  }
 ],
 "metadata": {
  "kernelspec": {
   "display_name": "Python 3",
   "language": "python",
   "name": "python3"
  },
  "language_info": {
   "codemirror_mode": {
    "name": "ipython",
    "version": 3
   },
   "file_extension": ".py",
   "mimetype": "text/x-python",
   "name": "python",
   "nbconvert_exporter": "python",
   "pygments_lexer": "ipython3",
   "version": "3.4.3+"
  }
 },
 "nbformat": 4,
 "nbformat_minor": 2
}
